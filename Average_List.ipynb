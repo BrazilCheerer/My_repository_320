{
  "nbformat": 4,
  "nbformat_minor": 0,
  "metadata": {
    "colab": {
      "provenance": [],
      "authorship_tag": "ABX9TyM5iqeHgJMt4skaOx80fmmt",
      "include_colab_link": true
    },
    "kernelspec": {
      "name": "python3",
      "display_name": "Python 3"
    },
    "language_info": {
      "name": "python"
    }
  },
  "cells": [
    {
      "cell_type": "markdown",
      "metadata": {
        "id": "view-in-github",
        "colab_type": "text"
      },
      "source": [
        "<a href=\"https://colab.research.google.com/github/BrazilCheerer/My_repository_320/blob/main/Average_List.ipynb\" target=\"_parent\"><img src=\"https://colab.research.google.com/assets/colab-badge.svg\" alt=\"Open In Colab\"/></a>"
      ]
    },
    {
      "cell_type": "code",
      "execution_count": 4,
      "metadata": {
        "colab": {
          "base_uri": "https://localhost:8080/"
        },
        "id": "OOqYua1X_H4v",
        "outputId": "baca4239-df7e-4cc9-e980-183efff58631"
      },
      "outputs": [
        {
          "output_type": "stream",
          "name": "stdout",
          "text": [
            "Always be printed\n"
          ]
        },
        {
          "output_type": "execute_result",
          "data": {
            "text/plain": [
              "2.5"
            ]
          },
          "metadata": {},
          "execution_count": 4
        }
      ],
      "source": [
        "def avg(aList):\n",
        "  try:\n",
        "\n",
        "\n",
        "    sum1 =  sum(aList) / len(aList)\n",
        "\n",
        "  except ZeroDivisionError:\n",
        "     print(\"Lenght of list is 0\")\n",
        "     return []\n",
        "  except TypeError:\n",
        "    print(\"A non-number is in the list\")\n",
        "    return float(\"nan\")\n",
        "  else:\n",
        "    print(\"There are no errors!\")\n",
        "  finally:\n",
        "    print(\"Always be printed\")\n",
        "\n",
        "\n",
        "\n",
        "\n",
        "\n",
        "\n",
        "avg(([1, 2, 3, 4]))"
      ]
    }
  ]
}