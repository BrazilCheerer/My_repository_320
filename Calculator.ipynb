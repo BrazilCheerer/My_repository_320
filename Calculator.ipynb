{
  "nbformat": 4,
  "nbformat_minor": 0,
  "metadata": {
    "colab": {
      "provenance": [],
      "authorship_tag": "ABX9TyOulnv0LHdASP98792YG4be",
      "include_colab_link": true
    },
    "kernelspec": {
      "name": "python3",
      "display_name": "Python 3"
    },
    "language_info": {
      "name": "python"
    }
  },
  "cells": [
    {
      "cell_type": "markdown",
      "metadata": {
        "id": "view-in-github",
        "colab_type": "text"
      },
      "source": [
        "<a href=\"https://colab.research.google.com/github/BrazilCheerer/My_repository_320/blob/main/Calculator.ipynb\" target=\"_parent\"><img src=\"https://colab.research.google.com/assets/colab-badge.svg\" alt=\"Open In Colab\"/></a>"
      ]
    },
    {
      "cell_type": "code",
      "execution_count": 13,
      "metadata": {
        "colab": {
          "base_uri": "https://localhost:8080/"
        },
        "id": "42kZxgcSbl7M",
        "outputId": "6bb704f2-0449-4774-cb3d-94a0b31562d6"
      },
      "outputs": [
        {
          "name": "stdout",
          "output_type": "stream",
          "text": [
            "Enter number one 3\n",
            "What operator do you want? (+, -, *, /, //, %, **), Write 'break' to stop break\n"
          ]
        }
      ],
      "source": [
        "\n",
        "while True:\n",
        "  number1 = float(input(\"Enter number one \"))\n",
        "  operator = input(\"What operator do you want? (+, -, *, /, //, %, **), Write 'break' to stop \").lower()\n",
        "  if operator == \"break\":\n",
        "   break\n",
        "\n",
        "  number2 = float(input(\"Enter number two \"))\n",
        "\n",
        "\n",
        "\n",
        "  if operator == \"+\":\n",
        "\n",
        "    print(f\"the result is {round(number1 + number2, 3)}\")\n",
        "\n",
        "  elif operator == \"-\":\n",
        "    print(f\"the result is {round(number1 - number2, 3)}\")\n",
        "\n",
        "  elif operator == \"*\":\n",
        "    print(f\"the result is {round(number1 * number2, 3)}\")\n",
        "\n",
        "  elif operator == \"/\":\n",
        "    print(f\"the result is {round(number1 / number2, 3)}\")\n",
        "\n",
        "  elif operator == \"//\":\n",
        "    print(f\"the result is {round(number1 // number2, 3)}\")\n",
        "\n",
        "  elif operator == \"%\":\n",
        "    print(f\"the result is {round(number1 % number2, 3)}\")\n",
        "\n",
        "  elif operator == \"**\":\n",
        "    print(f\"the result is {round(number1 ** number2, 3)}\")\n",
        "\n",
        "  else:\n",
        "    print(\"Enter a valid operator!\")\n",
        "    continue\n",
        "\n",
        "\n",
        "\n",
        "\n",
        "\n",
        ""
      ]
    }
  ]
}