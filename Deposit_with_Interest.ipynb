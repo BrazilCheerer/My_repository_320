{
  "nbformat": 4,
  "nbformat_minor": 0,
  "metadata": {
    "colab": {
      "provenance": [],
      "authorship_tag": "ABX9TyMQ9UFPhsCPAal9oAn/x6au",
      "include_colab_link": true
    },
    "kernelspec": {
      "name": "python3",
      "display_name": "Python 3"
    },
    "language_info": {
      "name": "python"
    }
  },
  "cells": [
    {
      "cell_type": "markdown",
      "metadata": {
        "id": "view-in-github",
        "colab_type": "text"
      },
      "source": [
        "<a href=\"https://colab.research.google.com/github/BrazilCheerer/My_repository_320/blob/main/Deposit_with_Interest.ipynb\" target=\"_parent\"><img src=\"https://colab.research.google.com/assets/colab-badge.svg\" alt=\"Open In Colab\"/></a>"
      ]
    },
    {
      "cell_type": "code",
      "execution_count": null,
      "metadata": {
        "id": "eVbVK7YU63iM"
      },
      "outputs": [],
      "source": [
        "class Mortgage:\n",
        "  def __init__(self, initLoan, maturity, rate):\n",
        "    self.__initLoan = initLoan #By default, these attributes are public, however, if we add __ after self in the constructor AND in all methods, they become private\n",
        "    self.__maturity = maturity\n",
        "    self.__rate = rate\n",
        "\n",
        "  def __str__(self):\n",
        "    return(f\"Initial amount: {self.getInitial()}, Interest rate: {self.getInterest()}, Maturity Time: {self.getMaturity()}\")\n",
        "\n",
        "\n",
        "  def getInterest(self): #This is a way to get a variable if a variable is private.\n",
        "    return self.__rate\n",
        "\n",
        "  def getMaturity(self):\n",
        "    return self.__maturity\n",
        "\n",
        "  def getInitial(self):\n",
        "    return self.__initLoan\n",
        "\n",
        "  def setInterest(self, newInterest): #This is a way to get a variable if a variable is private.\n",
        "    self.__rate = newInterest\n",
        "\n",
        "  def setInitial(self, newInitial):\n",
        "    self.__initLoan = newInitial\n",
        "\n",
        "  def setMaturity(self, newMaturity):\n",
        "    self.__maturity = newMaturity\n",
        "\n",
        "    #Additionally, we can add __ in front of METHODS, to make them private\n",
        "\n",
        "\n",
        "  def amount(self):\n",
        "\n",
        "    interest = self.__rate/100\n",
        "    annual = self.__maturity * 12\n",
        "\n",
        "\n",
        "    return round((self.__initLoan * ((interest)*(1+interest)**(annual))) / ((1 + (interest))**(annual) - 1),)\n",
        "\n",
        "\n",
        "aMortgage = Mortgage(100000, 30, 6)\n",
        "\n",
        "aMortgage.setMaturity(32)\n",
        "\n",
        "aMortgage.amount()\n",
        "\n",
        "print(aMortgage)"
      ]
    }
  ]
}