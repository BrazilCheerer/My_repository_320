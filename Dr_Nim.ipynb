{
  "cells": [
    {
      "cell_type": "markdown",
      "metadata": {
        "id": "view-in-github",
        "colab_type": "text"
      },
      "source": [
        "<a href=\"https://colab.research.google.com/github/BrazilCheerer/My_repository_320/blob/main/Dr_Nim.ipynb\" target=\"_parent\"><img src=\"https://colab.research.google.com/assets/colab-badge.svg\" alt=\"Open In Colab\"/></a>"
      ]
    },
    {
      "cell_type": "code",
      "execution_count": 2,
      "metadata": {
        "colab": {
          "base_uri": "https://localhost:8080/"
        },
        "id": "GSpzlUT2FolQ",
        "outputId": "2fe1da6a-aff1-4211-b5f8-d0c44fb1a72f"
      },
      "outputs": [
        {
          "output_type": "stream",
          "name": "stdout",
          "text": [
            "This machine will beat you!\n",
            "The goal is to have no balls remaining, if you don't, you lose!\n",
            "You have 16 balls to begin! Do your trick!\n",
            "Number of balls 16\n",
            "Choose how many balls to remove (You can only choose from 1 to 3) 3\n",
            "Number of balls 13\n",
            "The machine will now play!\n",
            "Number of balls 12\n",
            "Choose how many balls to remove (You can only choose from 1 to 3) 3\n",
            "Number of balls 9\n",
            "The machine will now play!\n",
            "Number of balls 8\n",
            "Choose how many balls to remove (You can only choose from 1 to 3) 3\n",
            "Number of balls 5\n",
            "The machine will now play!\n",
            "Number of balls 4\n",
            "Choose how many balls to remove (You can only choose from 1 to 3) 3\n",
            "Number of balls 1\n",
            "The machine will now play!\n",
            "Number of balls 0\n",
            "Machine got to 1 ball, you lost!\n"
          ]
        }
      ],
      "source": [
        "\n",
        "print(\"This machine will beat you!\")\n",
        "print(\"The goal is to have no balls remaining, if you don't, you lose!\")\n",
        "print(\"You have 16 balls to begin! Do your trick!\")\n",
        "\n",
        "balls = 16\n",
        "\n",
        "while(balls > 0):\n",
        "  print(\"Number of balls\", balls)\n",
        "  ballsToRemove = int(input(\"Choose how many balls to remove (You can only choose from 1 to 3) \" ))\n",
        "\n",
        "  balls = balls - ballsToRemove\n",
        "  print(\"Number of balls\", balls)\n",
        "\n",
        "  print(\"The machine will now play!\")\n",
        "  balls = balls - (4 - ballsToRemove)\n",
        "\n",
        "print(\"Number of balls\", balls)\n",
        "\n",
        "if (balls == 0):\n",
        "    print(\"Machine got to 0 balls, you lost!\")\n",
        "else:\n",
        "  print(\"You won! Somehow...\")\n",
        "\n",
        "\n",
        "\n",
        "\n",
        "\n",
        "\n",
        "\n"
      ]
    }
  ],
  "metadata": {
    "colab": {
      "provenance": [],
      "authorship_tag": "ABX9TyPV8FzjB87AMxnTu0aThiP1",
      "include_colab_link": true
    },
    "kernelspec": {
      "display_name": "Python 3",
      "name": "python3"
    },
    "language_info": {
      "name": "python"
    }
  },
  "nbformat": 4,
  "nbformat_minor": 0
}