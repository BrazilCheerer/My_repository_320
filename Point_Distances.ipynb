{
  "nbformat": 4,
  "nbformat_minor": 0,
  "metadata": {
    "colab": {
      "provenance": [],
      "authorship_tag": "ABX9TyN7bs1pn0SoKllJQqiX4qT/",
      "include_colab_link": true
    },
    "kernelspec": {
      "name": "python3",
      "display_name": "Python 3"
    },
    "language_info": {
      "name": "python"
    }
  },
  "cells": [
    {
      "cell_type": "markdown",
      "metadata": {
        "id": "view-in-github",
        "colab_type": "text"
      },
      "source": [
        "<a href=\"https://colab.research.google.com/github/BrazilCheerer/My_repository_320/blob/main/Point_Distances.ipynb\" target=\"_parent\"><img src=\"https://colab.research.google.com/assets/colab-badge.svg\" alt=\"Open In Colab\"/></a>"
      ]
    },
    {
      "cell_type": "code",
      "execution_count": null,
      "metadata": {
        "id": "U7UnJeTvFFv2"
      },
      "outputs": [],
      "source": [
        "import math;\n",
        "\n",
        "class Point:\n",
        "  def __init__(self, x, y):\n",
        "    self.x = x\n",
        "    self.y = y\n",
        "\n",
        "  def distance(self, other): #Other is just a name, but is normal to use it in python\n",
        "    xDiff = self.x - other.x\n",
        "    yDiff = self.y - other.y\n",
        "    distance = math.sqrt(xDiff ** 2 + yDiff ** 2)\n",
        "    return distance\n",
        "\n",
        "class Point3d(Point):\n",
        "  def __init__(self, x, y, z):\n",
        "    super().__init__(x, y)\n",
        "    self.z = z\n",
        "\n",
        "  def distance(self, other):\n",
        "    xDiff = (self.x - other.x)**2\n",
        "    yDiff = (self.y - other.y)**2\n",
        "    zDiff = (self.z - other.z)**2\n",
        "\n",
        "    distance = (xDiff + zDiff + yDiff) ** 0.5\n",
        "    return distance\n",
        "\n",
        "\n",
        "\n",
        "\n",
        "point1 = Point(0, 999)\n",
        "point2 = Point(128, 214)\n",
        "point3d1 = Point3d(1,2,3)\n",
        "point3d2 = Point3d(4,5,6)\n",
        "\n",
        "\n",
        "point1.distance(point2)\n",
        "point3d1.distance(point3d2)"
      ]
    }
  ]
}