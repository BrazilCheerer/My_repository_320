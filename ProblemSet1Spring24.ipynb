{
  "nbformat": 4,
  "nbformat_minor": 0,
  "metadata": {
    "colab": {
      "provenance": [],
      "include_colab_link": true
    },
    "kernelspec": {
      "name": "python3",
      "display_name": "Python 3"
    },
    "language_info": {
      "name": "python"
    }
  },
  "cells": [
    {
      "cell_type": "markdown",
      "metadata": {
        "id": "view-in-github",
        "colab_type": "text"
      },
      "source": [
        "<a href=\"https://colab.research.google.com/github/BrazilCheerer/My_repository_320/blob/main/ProblemSet1Spring24.ipynb\" target=\"_parent\"><img src=\"https://colab.research.google.com/assets/colab-badge.svg\" alt=\"Open In Colab\"/></a>"
      ]
    },
    {
      "cell_type": "markdown",
      "source": [
        "# Problem Set 2"
      ],
      "metadata": {
        "id": "mqKVIuY-mxNU"
      }
    },
    {
      "cell_type": "markdown",
      "source": [
        "## Assignment 1: Quality Control (7 points)\n",
        "\n",
        "A quality control manager would like to find the average weight of a list of weights. Prior experience indicates that the first two measures are atypical, and the practice is to exclude these from the average calculation.\n",
        "\n",
        "Write a program that calculates the average of a list of numbers that given as inputs from the user, excluding the first two values.\n",
        "\n",
        "For your program, you must define and use the following functions:\n",
        "- `getValues(n)`: Prompt the user for `n` values, returns the list\n",
        "- `calcAverage(alist)`: Calculates the average from the list"
      ],
      "metadata": {
        "id": "-RSYW1jVm08n"
      }
    },
    {
      "cell_type": "code",
      "execution_count": null,
      "metadata": {
        "id": "AqbgJkgNmvQw",
        "colab": {
          "base_uri": "https://localhost:8080/"
        },
        "outputId": "2b97f1e3-e4c9-4b97-d420-920fc009b15d"
      },
      "outputs": [
        {
          "name": "stdout",
          "output_type": "stream",
          "text": [
            "How many items in your list? 4\n",
            "Put values into the list: 1\n",
            "Put values into the list: 1\n",
            "Put values into the list: 8\n",
            "Put values into the list: 8\n"
          ]
        },
        {
          "output_type": "execute_result",
          "data": {
            "text/plain": [
              "8.0"
            ]
          },
          "metadata": {},
          "execution_count": 24
        }
      ],
      "source": [
        "def getValues(n):\n",
        "\n",
        "  aList = []\n",
        "\n",
        "\n",
        "  for i in range(n):\n",
        "         valueToList = float(input(\"Put values into the list: \"))\n",
        "         aList.append(valueToList)\n",
        "\n",
        "  return aList\n",
        "\n",
        "\n",
        "\n",
        "##############################################\n",
        "\n",
        "def calcAverage(aList):\n",
        "\n",
        "  if len(aList) <= 2:\n",
        "    return\n",
        "\n",
        "  else:\n",
        "\n",
        "\n",
        "    aNewList = aList[2:len(aList)]\n",
        "\n",
        "    return(sum(aNewList)/(len(aNewList)))\n",
        "\n",
        "\n",
        "\n",
        "\n",
        "#############################################\n",
        "\n",
        "numberOfItems = int(input(\"How many items in your list? \"))\n",
        "\n",
        "listResult = getValues(numberOfItems)\n",
        "\n",
        "calcAverage(listResult)\n",
        "\n",
        "\n"
      ]
    },
    {
      "cell_type": "markdown",
      "source": [
        "## Assignment 2: Country Statistics Lookup-Multiple Measures (6 points)\n",
        "\n",
        "Assume a program begins with the statement:\n",
        "\n",
        "```python\n",
        "allData = { # dictionary of values for countries\n",
        "    'US': {'pop':325.7, 'gdp': 19.39, 'ccy': 'USD', 'fx':  1.0},\n",
        "    'CA': {'pop': 36.5, 'gdp':  1.65, 'ccy': 'CAD', 'fx':  1.35},\n",
        "    'MX': {'pop':129.2, 'gdp':  1.15, 'ccy': 'MXN', 'fx': 19.68}\n",
        "    }\n",
        "```\n",
        "\n",
        "Write subsequent statements that (in a loop) prompt the user for a country code (`US`, `CA`, or `MX`), then prompt for a measure name (`pop`, `gdp`, `ccy`, or `fx`), then look up in the above dictionary for the corresponding value, and display it.\n",
        "\n",
        "Example run:\n",
        "```\n",
        "Please enter a country code: CA\n",
        "Please enter a statistic: pop\n",
        "CA pop = 36.5\n",
        "```\n",
        "\n",
        "Your program should handle the cases where a user-entered country code or measure name is not found."
      ],
      "metadata": {
        "id": "QFO0Kzx8ncnv"
      }
    },
    {
      "cell_type": "code",
      "source": [
        "allData = { # dictionary of values for countries\n",
        "    'US': {'pop':325.7, 'gdp': 19.39, 'ccy': 'USD', 'fx':  1.0},\n",
        "    'CA': {'pop': 36.5, 'gdp':  1.65, 'ccy': 'CAD', 'fx':  1.35},\n",
        "    'MX': {'pop':129.2, 'gdp':  1.15, 'ccy': 'MXN', 'fx': 19.68}\n",
        "    }\n",
        "\n",
        "\n",
        "\n",
        "\n",
        "\n",
        "\n",
        "while(True):\n",
        "  country = input(\"Please enter a country code: \")\n",
        "\n",
        "  if country.upper() in allData.keys():\n",
        "    while(True):\n",
        "      stats = input(\"Please enter a statistic: \")\n",
        "      if stats.lower() in allData[country.upper()].keys():\n",
        "        print(f\"{country.upper()} {stats} = {allData[country.upper()].get(stats.lower())}\")\n",
        "        break\n",
        "      else:\n",
        "        print(\"Stats do not exist, try again!\")\n",
        "        continue\n",
        "    break\n",
        "  else:\n",
        "    print(\"Country not in the list, try again!\")\n",
        "    continue"
      ],
      "metadata": {
        "id": "NZFjRINKowEW",
        "colab": {
          "base_uri": "https://localhost:8080/"
        },
        "outputId": "4f3efd7d-a83d-4dcf-8c7c-d977e13314ee"
      },
      "execution_count": null,
      "outputs": [
        {
          "output_type": "stream",
          "name": "stdout",
          "text": [
            "Please enter a country code: us\n",
            "Please enter a statistic: pop\n",
            "US pop = 325.7\n"
          ]
        }
      ]
    },
    {
      "cell_type": "markdown",
      "source": [
        "## Assignment 3: Parking Garage (6 points)\n",
        "\n",
        "Write a program to compute the fee for parking in a garage for a number of hours.\n",
        "\n",
        "The program should:\n",
        "- Prompt the user for how many hours parked\n",
        "- Calculate the fee based on the following rules:\n",
        "  - $2.50/hour\n",
        "\n",
        "  - minimum fee is $6.00\n",
        "\n",
        "  - maximum fee is $20.00\n",
        "- Print the result\n",
        "\n",
        "For your program, define and use the following two functions:\n",
        "```python\n",
        "# use input() to prompt for the # of hours parked, return this value\n",
        "def getParkingHours()\n",
        "\n",
        "# takes as input hours (a number), returns the parking fee\n",
        "def calcParkingFee()\n",
        "```"
      ],
      "metadata": {
        "id": "GjaUFrnfpKFf"
      }
    },
    {
      "cell_type": "code",
      "source": [
        "# use input() to prompt for the # of hours parked, return this value\n",
        "def getParkingHours():\n",
        "\n",
        "\n",
        "  return float(input(\"How many hours parked? \"))\n",
        "\n",
        "# takes as input hours (a number), returns the parking fee\n",
        "def calcParkingFee(hours):\n",
        "\n",
        "  fee = hours * 2.5\n",
        "\n",
        "  if fee < 6:\n",
        "    fee = 6\n",
        "  if fee > 20:\n",
        "    fee = 20\n",
        "\n",
        "  return fee\n",
        "\n",
        "hours = getParkingHours()\n",
        "print(f\"The parking fee is ${calcParkingFee(hours)}\")"
      ],
      "metadata": {
        "id": "5ha4O3V5pwNN",
        "colab": {
          "base_uri": "https://localhost:8080/"
        },
        "outputId": "eef049f8-36cd-4ce1-8b3d-6d33d18ba503"
      },
      "execution_count": null,
      "outputs": [
        {
          "output_type": "stream",
          "name": "stdout",
          "text": [
            "How many hours parked? 2.5\n",
            "The parking fee is $6.25\n"
          ]
        }
      ]
    },
    {
      "cell_type": "markdown",
      "source": [
        "## Assignment 4: Tuition (6 points)\n",
        "\n",
        "A college charges tuition according to the following:\n",
        "- 12 or more credits: $20,000/semester\n",
        "\n",
        "- 1-11 credits: $1,200 + $1,700 per credit\n",
        "\n",
        "Write a program that prompts the user for a number of credits and determines and displays the tuition for the semester. As part of your program, define and use the following function:\n",
        "```python\n",
        "def calcTuition(credits)\n",
        "```\n",
        "The function returns the tuition for a given number of credits"
      ],
      "metadata": {
        "id": "gipBObe5qm-2"
      }
    },
    {
      "cell_type": "code",
      "source": [
        "def calcTuition(credits): # Function that calculates the cost of tuition, using credits as input.\n",
        "  if credits >= 12:\n",
        "    return 20000\n",
        "  elif credits > 1 and credits < 12:\n",
        "    return 1200 + 1700 * credits\n",
        "\n",
        "\n",
        "\n",
        "# Gets the number of credits, using a loop if the user enters an incorrect value\n",
        "\n",
        "while True:\n",
        "  try:\n",
        "    credits = int(input(\"Enter number of credits: \"))\n",
        "  except:\n",
        "    print(\"Value not an integer. Try again!\")\n",
        "    continue\n",
        "  if credits < 1 or credits >= 21:\n",
        "    print(\"Number of Credits not accepted. Try again!\")\n",
        "    continue\n",
        "  else:\n",
        "    print(f\"The cost will be ${calcTuition(credits)} this semester!\")\n",
        "    break"
      ],
      "metadata": {
        "id": "BPcn9ywzrL8y",
        "colab": {
          "base_uri": "https://localhost:8080/"
        },
        "outputId": "0e41e246-ca26-47b6-a75f-f8adb89bc49e"
      },
      "execution_count": null,
      "outputs": [
        {
          "output_type": "stream",
          "name": "stdout",
          "text": [
            "Enter number of credits: 234324\\\n",
            "Value not an integer. Try again!\n",
            "Enter number of credits: 2332432\n",
            "Number of Credits not accepted. Try again!\n",
            "Enter number of credits: 12\n",
            "The cost will be $20000 this semester!\n"
          ]
        }
      ]
    }
  ]
}