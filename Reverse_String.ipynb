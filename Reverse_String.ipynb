{
  "nbformat": 4,
  "nbformat_minor": 0,
  "metadata": {
    "colab": {
      "provenance": [],
      "authorship_tag": "ABX9TyMMm5+CjRMNB2M5sBC2lWhI",
      "include_colab_link": true
    },
    "kernelspec": {
      "name": "python3",
      "display_name": "Python 3"
    },
    "language_info": {
      "name": "python"
    }
  },
  "cells": [
    {
      "cell_type": "markdown",
      "metadata": {
        "id": "view-in-github",
        "colab_type": "text"
      },
      "source": [
        "<a href=\"https://colab.research.google.com/github/BrazilCheerer/My_repository_320/blob/main/Reverse_String.ipynb\" target=\"_parent\"><img src=\"https://colab.research.google.com/assets/colab-badge.svg\" alt=\"Open In Colab\"/></a>"
      ]
    },
    {
      "cell_type": "code",
      "execution_count": null,
      "metadata": {
        "id": "eXQSXTvyOp2p"
      },
      "outputs": [],
      "source": [
        "def revString(string):\n",
        "\n",
        "  if len(string) == 1:\n",
        "    return string\n",
        "\n",
        "  else:\n",
        "\n",
        "    return string[-1] + revString(string[:-1])\n",
        "\n",
        "\n",
        "revString(\"RacecaR\")\n"
      ]
    }
  ]
}