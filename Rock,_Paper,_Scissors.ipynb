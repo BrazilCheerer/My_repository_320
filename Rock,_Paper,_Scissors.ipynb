{
  "cells": [
    {
      "cell_type": "markdown",
      "metadata": {
        "id": "view-in-github",
        "colab_type": "text"
      },
      "source": [
        "<a href=\"https://colab.research.google.com/github/BrazilCheerer/My_repository_320/blob/main/Rock%2C_Paper%2C_Scissors.ipynb\" target=\"_parent\"><img src=\"https://colab.research.google.com/assets/colab-badge.svg\" alt=\"Open In Colab\"/></a>"
      ]
    },
    {
      "cell_type": "code",
      "execution_count": null,
      "metadata": {
        "colab": {
          "base_uri": "https://localhost:8080/"
        },
        "id": "MOIFJVGxv_dt",
        "outputId": "b7b38caa-ed84-4b34-9dac-e3bf6fa786a3"
      },
      "outputs": [
        {
          "output_type": "stream",
          "name": "stdout",
          "text": [
            "Let's play! Best of three\n",
            "Rock, Paper, Scissors: gun\n",
            "Input invalid. Try 'rock', 'paper', 'scissors'\n",
            "Rock, Paper, Scissors: rock\n",
            "You chose rock and the computer chose scissors\n",
            "You have -1 points\n",
            "Rock, Paper, Scissors: rock\n",
            "You chose rock and the computer chose scissors\n",
            "You have -2 points\n",
            "Rock, Paper, Scissors: rock\n",
            "You chose rock and the computer chose rock\n",
            "It's a tie!\n",
            "Rock, Paper, Scissors: rock\n",
            "You chose rock and the computer chose rock\n",
            "It's a tie!\n",
            "Rock, Paper, Scissors: rock\n",
            "You chose rock and the computer chose scissors\n",
            "You have -3 points\n",
            "Rock, Paper, Scissors: rock\n",
            "You chose rock and the computer chose rock\n",
            "It's a tie!\n",
            "Rock, Paper, Scissors: rock\n",
            "You chose rock and the computer chose rock\n",
            "It's a tie!\n",
            "Rock, Paper, Scissors: scissors\n",
            "You chose scissors and the computer chose scissors\n",
            "It's a tie!\n",
            "Rock, Paper, Scissors: rock\n",
            "You chose rock and the computer chose rock\n",
            "It's a tie!\n",
            "Rock, Paper, Scissors: rock\n",
            "You chose rock and the computer chose rock\n",
            "It's a tie!\n",
            "Rock, Paper, Scissors: rock\n",
            "You chose rock and the computer chose scissors\n",
            "You have -4 points\n",
            "Rock, Paper, Scissors: rock\n",
            "You chose rock and the computer chose paper\n",
            "You lose!\n",
            "The computer has 1 points\n",
            "Rock, Paper, Scissors: rock\n",
            "You chose rock and the computer chose paper\n",
            "You lose!\n",
            "The computer has 2 points\n",
            "You Lose! You're such a noob\n"
          ]
        }
      ],
      "source": [
        "import random\n",
        "\n",
        "pcPoints = 0\n",
        "points = 0\n",
        "\n",
        "\n",
        "print(\"Let's play! Best of three\")\n",
        "\n",
        "\n",
        "while True:\n",
        "  pcChoice = random.choice([\"rock\", \"paper\", \"scissors\"])\n",
        "  choice = input(\"Rock, Paper, Scissors: \").lower()\n",
        "\n",
        "  if (choice == \"rock\" or choice == \"paper\" or choice == \"scissors\"):\n",
        "    print(f\"You chose {choice} and the computer chose {pcChoice}\")\n",
        "\n",
        "    if choice == pcChoice:\n",
        "      print(\"It's a tie!\")\n",
        "    elif ((choice == \"paper\" and pcChoice == \"rock\") or (choice == \"rock\" and pcChoice == \"scissors\") or (choice == \"scissors\" and pcChoice == \"paper\")):\n",
        "      points = points - 1\n",
        "      print(f\"You have {points} points\")\n",
        "\n",
        "\n",
        "    else:\n",
        "      print(\"You lose!\")\n",
        "      pcPoints = pcPoints + 1\n",
        "      print(f\"The computer has {pcPoints} points\")\n",
        "\n",
        "\n",
        "    if (points == 2):\n",
        "      print(\"You Win!\")\n",
        "      break;\n",
        "\n",
        "    elif (pcPoints == 2):\n",
        "      print(\"You Lose! You're such a noobr\")\n",
        "      break;\n",
        "\n",
        "  else:\n",
        "    print(\"Input invalid. Try 'rock', 'paper', 'scissors'\")\n",
        "\n",
        "\n",
        "\n",
        "\n",
        "\n",
        "\n",
        "\n",
        "\n",
        "\n"
      ]
    }
  ],
  "metadata": {
    "colab": {
      "provenance": [],
      "authorship_tag": "ABX9TyOhXKxqunoEHsmfTzuMk7Aq",
      "include_colab_link": true
    },
    "kernelspec": {
      "display_name": "Python 3",
      "name": "python3"
    },
    "language_info": {
      "name": "python"
    }
  },
  "nbformat": 4,
  "nbformat_minor": 0
}