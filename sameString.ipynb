{
  "nbformat": 4,
  "nbformat_minor": 0,
  "metadata": {
    "colab": {
      "provenance": [],
      "authorship_tag": "ABX9TyNDiK0H0bZTwNBM7fUK3PwU",
      "include_colab_link": true
    },
    "kernelspec": {
      "name": "python3",
      "display_name": "Python 3"
    },
    "language_info": {
      "name": "python"
    }
  },
  "cells": [
    {
      "cell_type": "markdown",
      "metadata": {
        "id": "view-in-github",
        "colab_type": "text"
      },
      "source": [
        "<a href=\"https://colab.research.google.com/github/BrazilCheerer/My_repository_320/blob/main/sameString.ipynb\" target=\"_parent\"><img src=\"https://colab.research.google.com/assets/colab-badge.svg\" alt=\"Open In Colab\"/></a>"
      ]
    },
    {
      "cell_type": "code",
      "execution_count": null,
      "metadata": {
        "id": "ApQSf5jfJt7I"
      },
      "outputs": [],
      "source": [
        "s1 = \"abcdef\"\n",
        "s2 = \"abcxyz\"\n",
        "\n",
        "for char in s1:\n",
        "  if char in s2:\n",
        "    print(f\"{char} is in both\")"
      ]
    }
  ]
}